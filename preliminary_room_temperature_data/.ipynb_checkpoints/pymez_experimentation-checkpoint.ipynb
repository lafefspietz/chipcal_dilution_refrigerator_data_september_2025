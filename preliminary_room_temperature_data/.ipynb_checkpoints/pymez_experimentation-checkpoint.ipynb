{
 "cells": [
  {
   "cell_type": "code",
   "execution_count": 1,
   "id": "040b511f-5032-47b8-8728-1e9994a2028a",
   "metadata": {},
   "outputs": [
    {
     "name": "stdout",
     "output_type": "stream",
     "text": [
      "Importing pyMez, this should take roughly 30 seconds\n",
      "Importing Code.DataHandlers.GeneralModels\n",
      "It took 0.156535 s to import Code.DataHandlers.GeneralModels\n",
      "Importing Code.DataHandlers.HTMLModels\n",
      "It took 0.043579 s to import Code.DataHandlers.HTMLModels\n",
      "Importing Code.DataHandlers.NISTModels\n",
      "It took 0.524982 s to import Code.DataHandlers.NISTModels\n",
      "Importing Code.DataHandlers.TouchstoneModels\n",
      "It took 0.001 s to import Code.DataHandlers.TouchstoneModels\n",
      "Importing Code.DataHandlers.XMLModels\n",
      "It took 0.021 s to import Code.DataHandlers.XMLModels\n",
      "Importing Code.DataHandlers.ZipModels\n",
      "It took 0.0 s to import Code.DataHandlers.ZipModels\n",
      "Importing Code.InstrumentControl.Experiments\n",
      "FAILED to import file!\n",
      "Moving to parsing unknown schema\n",
      "C:\\Users\\sparky.NIST\\AppData\\Local\\anaconda3\\Lib\\site-packages\\pyMez\\Code\\DataHandlers\\Tests\\Line_4909_WR15_Wave_Parameters_Port2_20180313_001.w1p sucessfully parsed\n",
      "FAILED to import file!\n",
      "Moving to parsing unknown schema\n",
      "C:\\Users\\sparky.NIST\\AppData\\Local\\anaconda3\\Lib\\site-packages\\pyMez\\Code\\DataHandlers\\Tests\\Line_5079_WR15_Wave_Parameters_20180313_001.w2p sucessfully parsed\n",
      "It took 0.803661 s to import Code.InstrumentControl.Experiments\n",
      "Importing Code.InstrumentControl.Instruments\n",
      "It took 0.0 s to import Code.InstrumentControl.Instruments\n",
      "Importing Code.Utils.Names\n",
      "It took 0.000994 s to import Code.Utils.Names\n",
      "It took 1.551751 s to import all of the active modules\n"
     ]
    }
   ],
   "source": [
    "# pip install git+https://github.com/sandersa-nist/pyMez.\n",
    "# pip install pyserial\n",
    "from pyMez import *\n",
    "import time\n",
    "import json\n",
    "# load needed python libraries matplotlib, numpy, and scikit-rf\n",
    "import matplotlib.pyplot as plt\n",
    "import numpy as np\n",
    "import skrf as rf"
   ]
  },
  {
   "cell_type": "code",
   "execution_count": 2,
   "id": "45e6c071-4415-4f14-87a2-1fa6082cf040",
   "metadata": {},
   "outputs": [
    {
     "name": "stdout",
     "output_type": "stream",
     "text": [
      "Agilent Technologies,E8364B,US42250162,A.07.50.67\n",
      " is at address GPIB0::19::INSTR\n"
     ]
    }
   ],
   "source": [
    "# list instruments\n",
    "whos_there()"
   ]
  },
  {
   "cell_type": "code",
   "execution_count": 4,
   "id": "2dbb00a1-efb7-4d5f-a3e0-a49bbb9d36d4",
   "metadata": {},
   "outputs": [
    {
     "name": "stdout",
     "output_type": "stream",
     "text": [
      "The information sheet was not found defaulting to address\n"
     ]
    }
   ],
   "source": [
    "#create vna object\n",
    "vna=VNA(\"GPIB0::19::INSTR\")"
   ]
  },
  {
   "cell_type": "code",
   "execution_count": 5,
   "id": "d8b7d83a-2b98-4b17-b986-83d20adf2e35",
   "metadata": {},
   "outputs": [],
   "source": [
    "vna.initialize()"
   ]
  },
  {
   "cell_type": "code",
   "execution_count": 8,
   "id": "af0fa6a4-b766-43cb-be7a-78ea47bc0b59",
   "metadata": {},
   "outputs": [
    {
     "data": {
      "text/plain": [
       "24"
      ]
     },
     "execution_count": 8,
     "metadata": {},
     "output_type": "execute_result"
    }
   ],
   "source": [
    "s2p=vna.measure_sparameters()\n",
    "s2p.save(\"test2.s2p\")\n",
    "vna.write('INITiate:CONTinuous ON') # this turns the sweep back on when we're done taking the traces so the instrument is usable"
   ]
  },
  {
   "cell_type": "code",
   "execution_count": null,
   "id": "66106960-6305-4894-a1bc-e67aa3aa82a6",
   "metadata": {},
   "outputs": [],
   "source": []
  }
 ],
 "metadata": {
  "kernelspec": {
   "display_name": "Python 3 (ipykernel)",
   "language": "python",
   "name": "python3"
  },
  "language_info": {
   "codemirror_mode": {
    "name": "ipython",
    "version": 3
   },
   "file_extension": ".py",
   "mimetype": "text/x-python",
   "name": "python",
   "nbconvert_exporter": "python",
   "pygments_lexer": "ipython3",
   "version": "3.12.4"
  }
 },
 "nbformat": 4,
 "nbformat_minor": 5
}
