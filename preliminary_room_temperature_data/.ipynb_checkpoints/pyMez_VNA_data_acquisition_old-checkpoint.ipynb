{
 "cells": [
  {
   "cell_type": "markdown",
   "id": "a40b64fa-ebc1-44e0-99c4-4722f9740550",
   "metadata": {},
   "source": [
    "# Dil fridge initial data for debugging\n"
   ]
  },
  {
   "cell_type": "code",
   "execution_count": 15,
   "id": "02842eb4",
   "metadata": {},
   "outputs": [],
   "source": [
    "# pip install git+https://github.com/sandersa-nist/pyMez.\n",
    "# pip install pyserial\n",
    "from pyMez import *\n",
    "import time\n",
    "import json"
   ]
  },
  {
   "cell_type": "code",
   "execution_count": 16,
   "id": "1aea2656",
   "metadata": {},
   "outputs": [
    {
     "name": "stdout",
     "output_type": "stream",
     "text": [
      "Agilent Technologies,E8364B,US42250162,A.07.50.67\n",
      " is at address GPIB0::19::INSTR\n"
     ]
    }
   ],
   "source": [
    "# list instruments\n",
    "whos_there()"
   ]
  },
  {
   "cell_type": "code",
   "execution_count": 17,
   "id": "80214127",
   "metadata": {},
   "outputs": [
    {
     "name": "stdout",
     "output_type": "stream",
     "text": [
      "The information sheet was not found defaulting to address\n"
     ]
    }
   ],
   "source": [
    "#create vna object\n",
    "vna=VNA(\"GPIB0::19::INSTR\")"
   ]
  },
  {
   "cell_type": "code",
   "execution_count": 18,
   "id": "98d6690f",
   "metadata": {},
   "outputs": [],
   "source": [
    "vna.initialize()"
   ]
  },
  {
   "cell_type": "code",
   "execution_count": 19,
   "id": "7410cf4e-c934-4b00-b754-ce50a6ab67e7",
   "metadata": {},
   "outputs": [],
   "source": [
    "s2p=vna.measure_sparameters()\n",
    "s2p.save(\"test.s2p\")\n",
    "\n",
    "\n"
   ]
  },
  {
   "cell_type": "code",
   "execution_count": 20,
   "id": "8421b69f-1723-44ff-9373-f9d2afe8a726",
   "metadata": {},
   "outputs": [
    {
     "data": {
      "text/plain": [
       "<Code.DataHandlers.TouchstoneModels.S2PV1 at 0x211a4835160>"
      ]
     },
     "execution_count": 20,
     "metadata": {},
     "output_type": "execute_result"
    }
   ],
   "source": [
    "s2p"
   ]
  },
  {
   "cell_type": "code",
   "execution_count": null,
   "id": "765e0587-75e4-4062-85a0-3a7f494f7475",
   "metadata": {},
   "outputs": [],
   "source": [
    "s2p.change_data_format('db')\n",
    "s2p.show()"
   ]
  },
  {
   "cell_type": "code",
   "execution_count": 23,
   "id": "5a70ce5e",
   "metadata": {},
   "outputs": [
    {
     "name": "stdout",
     "output_type": "stream",
     "text": [
      "{'power': '+0.00000000000E+000\\n', 'startf': 1000000000.0, 'stopf': 10000000000.0, 'npoints': 6401, 'ifbw': 200.0}\n"
     ]
    }
   ],
   "source": [
    "# open the vna state file and upload that to the vna.  see below for code which saves vna state into this file\n",
    "f = open(\"vna_state.txt\", \"r\")\n",
    "vna_state_json = f.read()\n",
    "vna_state = json.loads(vna_state_json)\n",
    "vna.setFrequency(vna_state['startf'],vna_state['stopf'],vna_state['npoints'])\n",
    "vna.setIfbw(vna_state['ifbw'])\n",
    "vna.set_power(vna_state['power'])\n",
    "print(vna_state)"
   ]
  },
  {
   "cell_type": "code",
   "execution_count": 30,
   "id": "9dba5637-bf30-4a93-87cc-26a8a1f29800",
   "metadata": {},
   "outputs": [],
   "source": [
    "SP9T_serial.write(bytes(str(1), encoding='utf-8'))\n",
    "time.sleep(0.1)\n",
    "s2p=vna.measure_sparameters()\n",
    "s2p.save(\"rawdata/test.s2p\")"
   ]
  },
  {
   "cell_type": "code",
   "execution_count": 36,
   "id": "f79aef3c",
   "metadata": {},
   "outputs": [],
   "source": [
    "# Measurement A sequence\n",
    "SP9T_serial.write(bytes(str(1), encoding='utf-8'))\n",
    "time.sleep(0.1)\n",
    "s2p=vna.measure_sparameters()\n",
    "s2p.save(\"rawdata/port1_A_short.s2p\")\n",
    "\n",
    "SP9T_serial.write(bytes(str(2), encoding='utf-8'))\n",
    "time.sleep(0.1)\n",
    "s2p=vna.measure_sparameters()\n",
    "s2p.save(\"rawdata/port2_A_open.s2p\")\n",
    "\n",
    "SP9T_serial.write(bytes(str(3), encoding='utf-8'))\n",
    "time.sleep(0.1)\n",
    "s2p=vna.measure_sparameters()\n",
    "s2p.save(\"rawdata/port3_A_short.s2p\")\n",
    "\n",
    "SP9T_serial.write(bytes(str(4), encoding='utf-8'))\n",
    "time.sleep(0.1)\n",
    "s2p=vna.measure_sparameters()\n",
    "s2p.save(\"rawdata/port4_A_open.s2p\")\n",
    "\n",
    "SP9T_serial.write(bytes(str(5), encoding='utf-8'))\n",
    "time.sleep(0.1)\n",
    "s2p=vna.measure_sparameters()\n",
    "s2p.save(\"rawdata/port5_A_load.s2p\")\n",
    "\n",
    "SP9T_serial.write(bytes(str(6), encoding='utf-8'))\n",
    "time.sleep(0.1)\n",
    "s2p=vna.measure_sparameters()\n",
    "s2p.save(\"rawdata/port6_A_load.s2p\")\n",
    "\n",
    "SP9T_serial.write(bytes(str(8), encoding='utf-8'))\n",
    "time.sleep(0.1)\n",
    "s2p=vna.measure_sparameters()\n",
    "s2p.save(\"rawdata/port8_A_thru.s2p\")\n",
    "\n",
    "SP9T_serial.write(bytes(str(9), encoding='utf-8'))\n",
    "time.sleep(0.1)\n",
    "s2p=vna.measure_sparameters()\n",
    "s2p.save(\"rawdata/port9_A_thru.s2p\")\n",
    "\n",
    "time.sleep(0.1)\n",
    "s2p=vna.measure_switch_terms()\n",
    "s2p.save(\"rawdata/switch_terms_A.s2p\")\n"
   ]
  },
  {
   "cell_type": "code",
   "execution_count": null,
   "id": "1d1a590b",
   "metadata": {},
   "outputs": [],
   "source": [
    "vna.close()"
   ]
  },
  {
   "cell_type": "code",
   "execution_count": 7,
   "id": "30f8d974",
   "metadata": {},
   "outputs": [],
   "source": [
    "# Measurement B sequence\n",
    "SP9T_serial.write(bytes(str(1), encoding='utf-8'))\n",
    "time.sleep(0.1)\n",
    "s2p=vna.measure_sparameters()\n",
    "s2p.save(\"rawdata/port1_B_thru.s2p\")\n",
    "\n",
    "SP9T_serial.write(bytes(str(2), encoding='utf-8'))\n",
    "time.sleep(0.1)\n",
    "s2p=vna.measure_sparameters()\n",
    "s2p.save(\"rawdata/port2_B_short.s2p\")\n",
    "\n",
    "SP9T_serial.write(bytes(str(3), encoding='utf-8'))\n",
    "time.sleep(0.1)\n",
    "s2p=vna.measure_sparameters()\n",
    "s2p.save(\"rawdata/port3_B_short.s2p\")\n",
    "\n",
    "SP9T_serial.write(bytes(str(4), encoding='utf-8'))\n",
    "time.sleep(0.1)\n",
    "s2p=vna.measure_sparameters()\n",
    "s2p.save(\"rawdata/port4_B_open.s2p\")\n",
    "\n",
    "SP9T_serial.write(bytes(str(5), encoding='utf-8'))\n",
    "time.sleep(0.1)\n",
    "s2p=vna.measure_sparameters()\n",
    "s2p.save(\"rawdata/port5_B_open.s2p\")\n",
    "\n",
    "SP9T_serial.write(bytes(str(6), encoding='utf-8'))\n",
    "time.sleep(0.1)\n",
    "s2p=vna.measure_sparameters()\n",
    "s2p.save(\"rawdata/port6_B_load.s2p\")\n",
    "\n",
    "SP9T_serial.write(bytes(str(8), encoding='utf-8'))\n",
    "time.sleep(0.1)\n",
    "s2p=vna.measure_sparameters()\n",
    "s2p.save(\"rawdata/port8_B_load.s2p\")\n",
    "\n",
    "SP9T_serial.write(bytes(str(9), encoding='utf-8'))\n",
    "time.sleep(0.1)\n",
    "s2p=vna.measure_sparameters()\n",
    "s2p.save(\"rawdata/port9_B_thru.s2p\")\n",
    "\n",
    "time.sleep(0.1)\n",
    "s2p=vna.measure_switch_terms()\n",
    "s2p.save(\"rawdata/switch_terms_B.s2p\")"
   ]
  },
  {
   "cell_type": "code",
   "execution_count": null,
   "id": "ee23d85d",
   "metadata": {},
   "outputs": [],
   "source": [
    "vna.close()"
   ]
  },
  {
   "cell_type": "code",
   "execution_count": 8,
   "id": "255438b4",
   "metadata": {},
   "outputs": [],
   "source": [
    "# Measurement C sequence\n",
    "SP9T_serial.write(bytes(str(1), encoding='utf-8'))\n",
    "time.sleep(0.1)\n",
    "s2p=vna.measure_sparameters()\n",
    "s2p.save(\"rawdata/port1_C_load.s2p\")\n",
    "\n",
    "SP9T_serial.write(bytes(str(2), encoding='utf-8'))\n",
    "time.sleep(0.1)\n",
    "s2p=vna.measure_sparameters()\n",
    "s2p.save(\"rawdata/port2_C_thru.s2p\")\n",
    "\n",
    "SP9T_serial.write(bytes(str(3), encoding='utf-8'))\n",
    "time.sleep(0.1)\n",
    "s2p=vna.measure_sparameters()\n",
    "s2p.save(\"rawdata/port3_C_short.s2p\")\n",
    "\n",
    "SP9T_serial.write(bytes(str(4), encoding='utf-8'))\n",
    "time.sleep(0.1)\n",
    "s2p=vna.measure_sparameters()\n",
    "s2p.save(\"rawdata/port4_C_open.s2p\")\n",
    "\n",
    "SP9T_serial.write(bytes(str(5), encoding='utf-8'))\n",
    "time.sleep(0.1)\n",
    "s2p=vna.measure_sparameters()\n",
    "s2p.save(\"rawdata/port5_C_short.s2p\")\n",
    "\n",
    "SP9T_serial.write(bytes(str(6), encoding='utf-8'))\n",
    "time.sleep(0.1)\n",
    "s2p=vna.measure_sparameters()\n",
    "s2p.save(\"rawdata/port6_C_load.s2p\")\n",
    "\n",
    "SP9T_serial.write(bytes(str(8), encoding='utf-8'))\n",
    "time.sleep(0.1)\n",
    "s2p=vna.measure_sparameters()\n",
    "s2p.save(\"rawdata/port8_C_open.s2p\")\n",
    "\n",
    "SP9T_serial.write(bytes(str(9), encoding='utf-8'))\n",
    "time.sleep(0.1)\n",
    "s2p=vna.measure_sparameters()\n",
    "s2p.save(\"rawdata/port9_C_thru.s2p\")\n",
    "\n",
    "time.sleep(0.1)\n",
    "s2p=vna.measure_switch_terms()\n",
    "s2p.save(\"rawdata/switch_terms_C.s2p\")"
   ]
  },
  {
   "cell_type": "code",
   "execution_count": null,
   "id": "63bb2d58",
   "metadata": {},
   "outputs": [],
   "source": [
    "vna.close()"
   ]
  },
  {
   "cell_type": "code",
   "execution_count": 9,
   "id": "8ec16597",
   "metadata": {},
   "outputs": [],
   "source": [
    "# Measurement D sequence\n",
    "\n",
    "SP9T_serial.write(bytes(str(1), encoding='utf-8'))\n",
    "time.sleep(0.1)\n",
    "s2p=vna.measure_sparameters()\n",
    "s2p.save(\"rawdata/port1_D_open.s2p\")\n",
    "\n",
    "SP9T_serial.write(bytes(str(2), encoding='utf-8'))\n",
    "time.sleep(0.1)\n",
    "s2p=vna.measure_sparameters()\n",
    "s2p.save(\"rawdata/port2_D_load.s2p\")\n",
    "\n",
    "SP9T_serial.write(bytes(str(3), encoding='utf-8'))\n",
    "time.sleep(0.1)\n",
    "s2p=vna.measure_sparameters()\n",
    "s2p.save(\"rawdata/port3_D_short.s2p\")\n",
    "\n",
    "SP9T_serial.write(bytes(str(4), encoding='utf-8'))\n",
    "time.sleep(0.1)\n",
    "s2p=vna.measure_sparameters()\n",
    "s2p.save(\"rawdata/port4_D_open.s2p\")\n",
    "\n",
    "SP9T_serial.write(bytes(str(5), encoding='utf-8'))\n",
    "time.sleep(0.1)\n",
    "s2p=vna.measure_sparameters()\n",
    "s2p.save(\"rawdata/port5_D_thru.s2p\")\n",
    "\n",
    "SP9T_serial.write(bytes(str(6), encoding='utf-8'))\n",
    "time.sleep(0.1)\n",
    "s2p=vna.measure_sparameters()\n",
    "s2p.save(\"rawdata/port6_D_load.s2p\")\n",
    "\n",
    "SP9T_serial.write(bytes(str(8), encoding='utf-8'))\n",
    "time.sleep(0.1)\n",
    "s2p=vna.measure_sparameters()\n",
    "s2p.save(\"rawdata/port8_D_short.s2p\")\n",
    "\n",
    "SP9T_serial.write(bytes(str(9), encoding='utf-8'))\n",
    "time.sleep(0.1)\n",
    "s2p=vna.measure_sparameters()\n",
    "s2p.save(\"rawdata/port9_D_thru.s2p\")\n",
    "\n",
    "time.sleep(0.1)\n",
    "s2p=vna.measure_switch_terms()\n",
    "s2p.save(\"rawdata/switch_terms_D.s2p\")\n"
   ]
  },
  {
   "cell_type": "code",
   "execution_count": null,
   "id": "0f028b5b",
   "metadata": {},
   "outputs": [],
   "source": [
    "vna.close()"
   ]
  },
  {
   "cell_type": "code",
   "execution_count": 10,
   "id": "cbee5bf6",
   "metadata": {},
   "outputs": [],
   "source": [
    "# Measurement E sequence\n",
    "\n",
    "SP9T_serial.write(bytes(str(1), encoding='utf-8'))\n",
    "time.sleep(0.1)\n",
    "s2p=vna.measure_sparameters()\n",
    "s2p.save(\"rawdata/port1_E_DUT.s2p\")\n",
    "\n",
    "SP9T_serial.write(bytes(str(2), encoding='utf-8'))\n",
    "time.sleep(0.1)\n",
    "s2p=vna.measure_sparameters()\n",
    "s2p.save(\"rawdata/port2_E_DUT.s2p\")\n",
    "\n",
    "SP9T_serial.write(bytes(str(3), encoding='utf-8'))\n",
    "time.sleep(0.1)\n",
    "s2p=vna.measure_sparameters()\n",
    "s2p.save(\"rawdata/port3_E_short.s2p\")\n",
    "\n",
    "SP9T_serial.write(bytes(str(4), encoding='utf-8'))\n",
    "time.sleep(0.1)\n",
    "s2p=vna.measure_sparameters()\n",
    "s2p.save(\"rawdata/port4_E_open.s2p\")\n",
    "\n",
    "SP9T_serial.write(bytes(str(5), encoding='utf-8'))\n",
    "time.sleep(0.1)\n",
    "s2p=vna.measure_sparameters()\n",
    "s2p.save(\"rawdata/port5_E_DUT.s2p\")\n",
    "\n",
    "SP9T_serial.write(bytes(str(6), encoding='utf-8'))\n",
    "time.sleep(0.1)\n",
    "s2p=vna.measure_sparameters()\n",
    "s2p.save(\"rawdata/port6_E_load.s2p\")\n",
    "\n",
    "SP9T_serial.write(bytes(str(8), encoding='utf-8'))\n",
    "time.sleep(0.1)\n",
    "s2p=vna.measure_sparameters()\n",
    "s2p.save(\"rawdata/port8_E_DUT.s2p\")\n",
    "\n",
    "SP9T_serial.write(bytes(str(9), encoding='utf-8'))\n",
    "time.sleep(0.1)\n",
    "s2p=vna.measure_sparameters()\n",
    "s2p.save(\"rawdata/port9_E_thru.s2p\")\n",
    "\n",
    "time.sleep(0.1)\n",
    "s2p=vna.measure_switch_terms()\n",
    "s2p.save(\"rawdata/switch_terms_E.s2p\")"
   ]
  },
  {
   "cell_type": "code",
   "execution_count": null,
   "id": "0cb8e6cf",
   "metadata": {},
   "outputs": [],
   "source": [
    "vna.close()"
   ]
  },
  {
   "cell_type": "code",
   "execution_count": 11,
   "id": "ea3a125b",
   "metadata": {},
   "outputs": [],
   "source": [
    "# Measurement F sequence\n",
    "\n",
    "SP9T_serial.write(bytes(str(1), encoding='utf-8'))\n",
    "time.sleep(0.1)\n",
    "s2p=vna.measure_sparameters()\n",
    "s2p.save(\"rawdata/port1_F_DUT.s2p\")\n",
    "\n",
    "SP9T_serial.write(bytes(str(2), encoding='utf-8'))\n",
    "time.sleep(0.1)\n",
    "s2p=vna.measure_sparameters()\n",
    "s2p.save(\"rawdata/port2_F_DUT.s2p\")\n",
    "\n",
    "SP9T_serial.write(bytes(str(3), encoding='utf-8'))\n",
    "time.sleep(0.1)\n",
    "s2p=vna.measure_sparameters()\n",
    "s2p.save(\"rawdata/port3_F_short.s2p\")\n",
    "\n",
    "SP9T_serial.write(bytes(str(4), encoding='utf-8'))\n",
    "time.sleep(0.1)\n",
    "s2p=vna.measure_sparameters()\n",
    "s2p.save(\"rawdata/port4_F_open.s2p\")\n",
    "\n",
    "SP9T_serial.write(bytes(str(5), encoding='utf-8'))\n",
    "time.sleep(0.1)\n",
    "s2p=vna.measure_sparameters()\n",
    "s2p.save(\"rawdata/port5_F_DUT.s2p\")\n",
    "\n",
    "SP9T_serial.write(bytes(str(6), encoding='utf-8'))\n",
    "time.sleep(0.1)\n",
    "s2p=vna.measure_sparameters()\n",
    "s2p.save(\"rawdata/port6_F_load.s2p\")\n",
    "\n",
    "SP9T_serial.write(bytes(str(8), encoding='utf-8'))\n",
    "time.sleep(0.1)\n",
    "s2p=vna.measure_sparameters()\n",
    "s2p.save(\"rawdata/port8_F_DUT.s2p\")\n",
    "\n",
    "SP9T_serial.write(bytes(str(9), encoding='utf-8'))\n",
    "time.sleep(0.1)\n",
    "s2p=vna.measure_sparameters()\n",
    "s2p.save(\"rawdata/port9_F_thru.s2p\")\n",
    "\n",
    "time.sleep(0.1)\n",
    "s2p=vna.measure_switch_terms()\n",
    "s2p.save(\"rawdata/switch_terms_F.s2p\")"
   ]
  },
  {
   "cell_type": "code",
   "execution_count": null,
   "id": "581000c3",
   "metadata": {},
   "outputs": [],
   "source": [
    "vna.close()"
   ]
  },
  {
   "cell_type": "code",
   "execution_count": 12,
   "id": "247c47d7",
   "metadata": {},
   "outputs": [],
   "source": [
    "# Measurement G sequence\n",
    "\n",
    "SP9T_serial.write(bytes(str(1), encoding='utf-8'))\n",
    "time.sleep(0.1)\n",
    "s2p=vna.measure_sparameters()\n",
    "s2p.save(\"rawdata/port1_G_DUT.s2p\")\n",
    "\n",
    "SP9T_serial.write(bytes(str(2), encoding='utf-8'))\n",
    "time.sleep(0.1)\n",
    "s2p=vna.measure_sparameters()\n",
    "s2p.save(\"rawdata/port2_G_DUT.s2p\")\n",
    "\n",
    "SP9T_serial.write(bytes(str(3), encoding='utf-8'))\n",
    "time.sleep(0.1)\n",
    "s2p=vna.measure_sparameters()\n",
    "s2p.save(\"rawdata/port3_G_short.s2p\")\n",
    "\n",
    "SP9T_serial.write(bytes(str(4), encoding='utf-8'))\n",
    "time.sleep(0.1)\n",
    "s2p=vna.measure_sparameters()\n",
    "s2p.save(\"rawdata/port4_G_open.s2p\")\n",
    "\n",
    "SP9T_serial.write(bytes(str(5), encoding='utf-8'))\n",
    "time.sleep(0.1)\n",
    "s2p=vna.measure_sparameters()\n",
    "s2p.save(\"rawdata/port5_G_DUT.s2p\")\n",
    "\n",
    "SP9T_serial.write(bytes(str(6), encoding='utf-8'))\n",
    "time.sleep(0.1)\n",
    "s2p=vna.measure_sparameters()\n",
    "s2p.save(\"rawdata/port6_G_load.s2p\")\n",
    "\n",
    "SP9T_serial.write(bytes(str(8), encoding='utf-8'))\n",
    "time.sleep(0.1)\n",
    "s2p=vna.measure_sparameters()\n",
    "s2p.save(\"rawdata/port8_G_DUT.s2p\")\n",
    "\n",
    "SP9T_serial.write(bytes(str(9), encoding='utf-8'))\n",
    "time.sleep(0.1)\n",
    "s2p=vna.measure_sparameters()\n",
    "s2p.save(\"rawdata/port9_G_thru.s2p\")\n",
    "\n",
    "time.sleep(0.1)\n",
    "s2p=vna.measure_switch_terms()\n",
    "s2p.save(\"rawdata/switch_terms_G.s2p\")"
   ]
  },
  {
   "cell_type": "code",
   "execution_count": null,
   "id": "9de04082",
   "metadata": {},
   "outputs": [],
   "source": [
    "vna.close()"
   ]
  },
  {
   "cell_type": "code",
   "execution_count": 13,
   "id": "01a2532d",
   "metadata": {},
   "outputs": [],
   "source": [
    "# Measurement H sequence\n",
    "\n",
    "SP9T_serial.write(bytes(str(1), encoding='utf-8'))\n",
    "time.sleep(0.1)\n",
    "s2p=vna.measure_sparameters()\n",
    "s2p.save(\"rawdata/port1_H_DUT.s2p\")\n",
    "\n",
    "SP9T_serial.write(bytes(str(2), encoding='utf-8'))\n",
    "time.sleep(0.1)\n",
    "s2p=vna.measure_sparameters()\n",
    "s2p.save(\"rawdata/port2_H_DUT.s2p\")\n",
    "\n",
    "SP9T_serial.write(bytes(str(3), encoding='utf-8'))\n",
    "time.sleep(0.1)\n",
    "s2p=vna.measure_sparameters()\n",
    "s2p.save(\"rawdata/port3_H_short.s2p\")\n",
    "\n",
    "SP9T_serial.write(bytes(str(4), encoding='utf-8'))\n",
    "time.sleep(0.1)\n",
    "s2p=vna.measure_sparameters()\n",
    "s2p.save(\"rawdata/port4_H_open.s2p\")\n",
    "\n",
    "SP9T_serial.write(bytes(str(5), encoding='utf-8'))\n",
    "time.sleep(0.1)\n",
    "s2p=vna.measure_sparameters()\n",
    "s2p.save(\"rawdata/port5_H_DUT.s2p\")\n",
    "\n",
    "SP9T_serial.write(bytes(str(6), encoding='utf-8'))\n",
    "time.sleep(0.1)\n",
    "s2p=vna.measure_sparameters()\n",
    "s2p.save(\"rawdata/port6_H_load.s2p\")\n",
    "\n",
    "SP9T_serial.write(bytes(str(8), encoding='utf-8'))\n",
    "time.sleep(0.1)\n",
    "s2p=vna.measure_sparameters()\n",
    "s2p.save(\"rawdata/port8_H_DUT.s2p\")\n",
    "\n",
    "SP9T_serial.write(bytes(str(9), encoding='utf-8'))\n",
    "time.sleep(0.1)\n",
    "s2p=vna.measure_sparameters()\n",
    "s2p.save(\"rawdata/port9_H_thru.s2p\")\n",
    "\n",
    "time.sleep(0.1)\n",
    "s2p=vna.measure_switch_terms()\n",
    "s2p.save(\"rawdata/switch_terms_H.s2p\")"
   ]
  },
  {
   "cell_type": "code",
   "execution_count": null,
   "id": "f46cfee5",
   "metadata": {},
   "outputs": [],
   "source": [
    "vna.close()"
   ]
  },
  {
   "cell_type": "code",
   "execution_count": 21,
   "id": "02646133",
   "metadata": {},
   "outputs": [],
   "source": [
    "# get state of VNA and save to JSON file called vna_state.txt:\n",
    "\n",
    "vna_state = {}\n",
    "vna_state['power'] = vna.get_power()\n",
    "vna_state['startf'] = min(vna.get_frequency())\n",
    "vna_state['stopf'] = max(vna.get_frequency())\n",
    "vna_state['npoints'] = len(vna.get_frequency())\n",
    "vna_state['ifbw'] = vna.get_IFBW()\n",
    "vna_state_json = json.dumps(vna_state)\n",
    "vna_state_file = open(\"vna_state.txt\", \"w\")\n",
    "vna_state_file.write(vna_state_json)\n",
    "vna_state_file.close()\n"
   ]
  },
  {
   "cell_type": "code",
   "execution_count": 21,
   "id": "9821e040-95dc-4472-916a-842da2d6b96a",
   "metadata": {},
   "outputs": [
    {
     "data": {
      "text/plain": [
       "{'power': '+0.00000000000E+000\\n',\n",
       " 'startf': 1000000000.0,\n",
       " 'stopf': 10000000000.0,\n",
       " 'npoints': 6401,\n",
       " 'ifbw': 200.0}"
      ]
     },
     "execution_count": 21,
     "metadata": {},
     "output_type": "execute_result"
    }
   ],
   "source": [
    "vna_state"
   ]
  },
  {
   "cell_type": "code",
   "execution_count": null,
   "id": "185ddda4-a4d4-4740-b07e-7d29c4952aa2",
   "metadata": {},
   "outputs": [],
   "source": []
  }
 ],
 "metadata": {
  "kernelspec": {
   "display_name": "Python 3 (ipykernel)",
   "language": "python",
   "name": "python3"
  },
  "language_info": {
   "codemirror_mode": {
    "name": "ipython",
    "version": 3
   },
   "file_extension": ".py",
   "mimetype": "text/x-python",
   "name": "python",
   "nbconvert_exporter": "python",
   "pygments_lexer": "ipython3",
   "version": "3.12.4"
  }
 },
 "nbformat": 4,
 "nbformat_minor": 5
}
