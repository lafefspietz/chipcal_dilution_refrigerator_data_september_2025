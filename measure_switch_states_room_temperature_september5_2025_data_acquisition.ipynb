{
 "cells": [
  {
   "cell_type": "markdown",
   "id": "0ae72aa3-7a1b-4eca-a0e8-33d3ea876ded",
   "metadata": {},
   "source": [
    "# Measure switch states room temperature september 5\n",
    "\n",
    "manually switch state of switch and take traces \n",
    "\n",
    "attempting to figure out what is wrong with e-cal load"
   ]
  },
  {
   "cell_type": "code",
   "execution_count": 1,
   "id": "ca55277e-71e8-42f4-b01f-e16ee6322038",
   "metadata": {},
   "outputs": [
    {
     "name": "stdout",
     "output_type": "stream",
     "text": [
      "Importing pyMez, this should take roughly 30 seconds\n",
      "Importing Code.DataHandlers.GeneralModels\n",
      "It took 0.160127 s to import Code.DataHandlers.GeneralModels\n",
      "Importing Code.DataHandlers.HTMLModels\n",
      "It took 0.038 s to import Code.DataHandlers.HTMLModels\n",
      "Importing Code.DataHandlers.NISTModels\n",
      "It took 0.526758 s to import Code.DataHandlers.NISTModels\n",
      "Importing Code.DataHandlers.TouchstoneModels\n",
      "It took 0.0 s to import Code.DataHandlers.TouchstoneModels\n",
      "Importing Code.DataHandlers.XMLModels\n",
      "It took 0.024516 s to import Code.DataHandlers.XMLModels\n",
      "Importing Code.DataHandlers.ZipModels\n",
      "It took 0.001 s to import Code.DataHandlers.ZipModels\n",
      "Importing Code.InstrumentControl.Experiments\n",
      "FAILED to import file!\n",
      "Moving to parsing unknown schema\n",
      "C:\\Users\\sparky.NIST\\AppData\\Local\\anaconda3\\Lib\\site-packages\\pyMez\\Code\\DataHandlers\\Tests\\Line_4909_WR15_Wave_Parameters_Port2_20180313_001.w1p sucessfully parsed\n",
      "FAILED to import file!\n",
      "Moving to parsing unknown schema\n",
      "C:\\Users\\sparky.NIST\\AppData\\Local\\anaconda3\\Lib\\site-packages\\pyMez\\Code\\DataHandlers\\Tests\\Line_5079_WR15_Wave_Parameters_20180313_001.w2p sucessfully parsed\n",
      "It took 0.809055 s to import Code.InstrumentControl.Experiments\n",
      "Importing Code.InstrumentControl.Instruments\n",
      "It took 0.0 s to import Code.InstrumentControl.Instruments\n",
      "Importing Code.Utils.Names\n",
      "It took 0.0 s to import Code.Utils.Names\n",
      "It took 1.559456 s to import all of the active modules\n"
     ]
    }
   ],
   "source": [
    "# pip install git+https://github.com/sandersa-nist/pyMez.\n",
    "# pip install pyserial\n",
    "from pyMez import *\n",
    "import time\n",
    "import json\n",
    "# load needed python libraries matplotlib, numpy, and scikit-rf\n",
    "import matplotlib.pyplot as plt\n",
    "import numpy as np\n",
    "import skrf as rf"
   ]
  },
  {
   "cell_type": "code",
   "execution_count": 2,
   "id": "b56fb983-649b-40dc-9463-ffc39de1d4a2",
   "metadata": {},
   "outputs": [
    {
     "name": "stdout",
     "output_type": "stream",
     "text": [
      "Agilent Technologies,E8364B,US42250162,A.07.50.67\n",
      " is at address GPIB0::19::INSTR\n"
     ]
    }
   ],
   "source": [
    "# list instruments\n",
    "whos_there()"
   ]
  },
  {
   "cell_type": "code",
   "execution_count": 3,
   "id": "bd4b14e9-9ef8-47be-ae46-aad76bfa522b",
   "metadata": {},
   "outputs": [
    {
     "name": "stdout",
     "output_type": "stream",
     "text": [
      "The information sheet was not found defaulting to address\n"
     ]
    }
   ],
   "source": [
    "#create vna object\n",
    "vna=VNA(\"GPIB0::19::INSTR\")"
   ]
  },
  {
   "cell_type": "code",
   "execution_count": 4,
   "id": "13ed6455-fcfd-4a79-973f-f9a696bf9e5c",
   "metadata": {},
   "outputs": [],
   "source": [
    "vna.initialize()"
   ]
  },
  {
   "cell_type": "code",
   "execution_count": 11,
   "id": "25a096bd-a1f9-4fd0-bd3b-48df9cfa28c7",
   "metadata": {},
   "outputs": [],
   "source": [
    "import serial\n",
    "import serial.tools.list_ports"
   ]
  },
  {
   "cell_type": "code",
   "execution_count": 19,
   "id": "27a47c31-bd2e-4d0a-923d-f3cb8a2c3854",
   "metadata": {},
   "outputs": [
    {
     "name": "stdout",
     "output_type": "stream",
     "text": [
      "COM1: Communications Port (COM1) [ACPI\\PNP0501\\0]\n",
      "COM3: Prolific PL2303GS USB Serial COM Port (COM3) [USB VID:PID=067B:23A3 SER=A8BOB119D15 LOCATION=1-1.4]\n",
      "COM6: Arduino Mega 2560 (COM6) [USB VID:PID=2341:0042 SER=3423232363135150A1D2 LOCATION=1-1]\n"
     ]
    }
   ],
   "source": [
    "# List serial port devices to figure out which one is the Arduino UNO/Mega in the MEMSDuino\n",
    "ports = serial.tools.list_ports.comports()\n",
    "for port, desc, hwid in sorted(ports):\n",
    "       print(\"{}: {} [{}]\".format(port, desc, hwid))"
   ]
  },
  {
   "cell_type": "code",
   "execution_count": 22,
   "id": "40ac907a-8c11-47da-95ed-b5ee3406aa76",
   "metadata": {},
   "outputs": [],
   "source": [
    "# Change this code to be the com port for the MEMSDuino Arduino board\n",
    "SP6T_serial = serial.Serial('COM6')  # open serial port"
   ]
  },
  {
   "cell_type": "code",
   "execution_count": 23,
   "id": "2998cecd-f26e-4ba4-8d6d-16f7f3233acd",
   "metadata": {},
   "outputs": [
    {
     "data": {
      "text/plain": [
       "1"
      ]
     },
     "execution_count": 23,
     "metadata": {},
     "output_type": "execute_result"
    }
   ],
   "source": [
    "SP6T_serial.write(bytes(str(2), encoding='utf-8')) # replace the number 1 with port number"
   ]
  },
  {
   "cell_type": "code",
   "execution_count": 21,
   "id": "a19a7947-f8f8-4026-980e-d1fa5ebea136",
   "metadata": {},
   "outputs": [],
   "source": [
    "#SP6T_serial.close()"
   ]
  },
  {
   "cell_type": "code",
   "execution_count": 5,
   "id": "be264bf1-fe0e-4d4e-939a-12fec875906c",
   "metadata": {},
   "outputs": [],
   "source": [
    "s2p=vna.measure_sparameters()\n",
    "vna.write('INITiate:CONTinuous ON') # this turns the sweep back on when we're done taking the traces so the instrument is usable\n",
    "s2p.save(\"measure_switch_states_room_temperature_september5_2025/short.s2p\")\n"
   ]
  },
  {
   "cell_type": "code",
   "execution_count": 6,
   "id": "c99ee92d-58b6-42c9-b811-7aca05154c15",
   "metadata": {},
   "outputs": [],
   "source": [
    "s2p=vna.measure_sparameters()\n",
    "vna.write('INITiate:CONTinuous ON') # this turns the sweep back on when we're done taking the traces so the instrument is usable\n",
    "s2p.save(\"measure_switch_states_room_temperature_september5_2025/open.s2p\")\n"
   ]
  },
  {
   "cell_type": "code",
   "execution_count": 7,
   "id": "552c3d55-4e5b-45e5-9527-d4fc0acf940c",
   "metadata": {},
   "outputs": [],
   "source": [
    "s2p=vna.measure_sparameters()\n",
    "vna.write('INITiate:CONTinuous ON') # this turns the sweep back on when we're done taking the traces so the instrument is usable\n",
    "s2p.save(\"measure_switch_states_room_temperature_september5_2025/load.s2p\")\n"
   ]
  },
  {
   "cell_type": "code",
   "execution_count": null,
   "id": "7bd8ec13-bec1-4a3a-8c4b-1249614767ca",
   "metadata": {},
   "outputs": [],
   "source": [
    "s2p=vna.measure_sparameters()\n",
    "vna.write('INITiate:CONTinuous ON') # this turns the sweep back on when we're done taking the traces so the instrument is usable\n",
    "s2p.save(\"measure_switch_states_room_temperature_september5_2025/port1.s2p\")\n"
   ]
  },
  {
   "cell_type": "code",
   "execution_count": 9,
   "id": "af808419-d656-413a-9077-d147c0288a63",
   "metadata": {},
   "outputs": [],
   "source": [
    "s2p=vna.measure_sparameters()\n",
    "vna.write('INITiate:CONTinuous ON') # this turns the sweep back on when we're done taking the traces so the instrument is usable\n",
    "s2p.save(\"measure_switch_states_room_temperature_september5_2025/port2.s2p\")\n"
   ]
  },
  {
   "cell_type": "code",
   "execution_count": 10,
   "id": "6ccc7d9a-45d1-43ec-afe5-8a82f1004c83",
   "metadata": {},
   "outputs": [],
   "source": [
    "SP6T_serial.write(bytes(str(3), encoding='utf-8')) \n",
    "s2p=vna.measure_sparameters()\n",
    "vna.write('INITiate:CONTinuous ON') # this turns the sweep back on when we're done taking the traces so the instrument is usable\n",
    "s2p.save(\"measure_switch_states_room_temperature_september5_2025/port3.s2p\")\n"
   ]
  },
  {
   "cell_type": "code",
   "execution_count": 24,
   "id": "4f21af63-e682-4e5f-b9db-4a23602a86a3",
   "metadata": {},
   "outputs": [],
   "source": [
    "SP6T_serial.write(bytes(str(4), encoding='utf-8')) \n",
    "s2p=vna.measure_sparameters()\n",
    "vna.write('INITiate:CONTinuous ON') # this turns the sweep back on when we're done taking the traces so the instrument is usable\n",
    "s2p.save(\"measure_switch_states_room_temperature_september5_2025/port4.s2p\")"
   ]
  },
  {
   "cell_type": "code",
   "execution_count": 25,
   "id": "a568153b-7f5f-4dc0-9dfb-91e10b11ecee",
   "metadata": {},
   "outputs": [
    {
     "data": {
      "text/plain": [
       "1"
      ]
     },
     "execution_count": 25,
     "metadata": {},
     "output_type": "execute_result"
    }
   ],
   "source": [
    "SP6T_serial.write(bytes(str(5), encoding='utf-8')) "
   ]
  },
  {
   "cell_type": "code",
   "execution_count": 26,
   "id": "76449ded-a221-40f9-b863-f1545f8e1f2e",
   "metadata": {},
   "outputs": [],
   "source": [
    "s2p=vna.measure_sparameters()\n",
    "vna.write('INITiate:CONTinuous ON') # this turns the sweep back on when we're done taking the traces so the instrument is usable\n",
    "s2p.save(\"measure_switch_states_room_temperature_september5_2025/port5.s2p\")"
   ]
  },
  {
   "cell_type": "code",
   "execution_count": 29,
   "id": "b78d47b1-e9d2-491d-a312-8600287ac6bc",
   "metadata": {},
   "outputs": [],
   "source": [
    "s2p=vna.measure_sparameters()\n",
    "vna.write('INITiate:CONTinuous ON') # this turns the sweep back on when we're done taking the traces so the instrument is usable\n",
    "s2p.save(\"measure_switch_states_room_temperature_september5_2025/port6.s2p\")"
   ]
  },
  {
   "cell_type": "code",
   "execution_count": 30,
   "id": "943e6e6e-0c52-40ea-8875-5299e361dd07",
   "metadata": {},
   "outputs": [],
   "source": [
    "s2p=vna.measure_sparameters()\n",
    "vna.write('INITiate:CONTinuous ON') # this turns the sweep back on when we're done taking the traces so the instrument is usable\n",
    "s2p.save(\"measure_switch_states_room_temperature_september5_2025/port7.s2p\")"
   ]
  },
  {
   "cell_type": "code",
   "execution_count": 31,
   "id": "84a62c9e-0332-4f08-a8d1-8dcf017326af",
   "metadata": {},
   "outputs": [],
   "source": [
    "# get state of VNA and save to JSON file called vna_state.txt:\n",
    "\n",
    "vna_state = {}\n",
    "vna_state['power'] = vna.get_power()\n",
    "vna_state['startf'] = min(vna.get_frequency())\n",
    "vna_state['stopf'] = max(vna.get_frequency())\n",
    "vna_state['npoints'] = len(vna.get_frequency())\n",
    "vna_state['ifbw'] = vna.get_IFBW()\n",
    "vna_state_json = json.dumps(vna_state)\n",
    "vna_state_file = open(\"measure_switch_states_room_temperature_september5_2025/vna_state.txt\", \"w\")\n",
    "vna_state_file.write(vna_state_json)\n",
    "vna_state_file.close()"
   ]
  },
  {
   "cell_type": "code",
   "execution_count": 32,
   "id": "23ecc672-8359-4e74-866a-7521d0e503d1",
   "metadata": {},
   "outputs": [
    {
     "data": {
      "text/plain": [
       "24"
      ]
     },
     "execution_count": 32,
     "metadata": {},
     "output_type": "execute_result"
    }
   ],
   "source": [
    "vna.write('INITiate:CONTinuous ON') # this turns the sweep back on when we're done taking the traces so the instrument is usable\n"
   ]
  },
  {
   "cell_type": "code",
   "execution_count": 33,
   "id": "7a2ca7f2-2934-48ee-bc03-433d4f356a53",
   "metadata": {},
   "outputs": [],
   "source": [
    "vna.close()"
   ]
  },
  {
   "cell_type": "code",
   "execution_count": null,
   "id": "3948a49f-f462-4bc5-8153-942def19f273",
   "metadata": {},
   "outputs": [],
   "source": []
  }
 ],
 "metadata": {
  "kernelspec": {
   "display_name": "Python 3 (ipykernel)",
   "language": "python",
   "name": "python3"
  },
  "language_info": {
   "codemirror_mode": {
    "name": "ipython",
    "version": 3
   },
   "file_extension": ".py",
   "mimetype": "text/x-python",
   "name": "python",
   "nbconvert_exporter": "python",
   "pygments_lexer": "ipython3",
   "version": "3.12.4"
  }
 },
 "nbformat": 4,
 "nbformat_minor": 5
}
