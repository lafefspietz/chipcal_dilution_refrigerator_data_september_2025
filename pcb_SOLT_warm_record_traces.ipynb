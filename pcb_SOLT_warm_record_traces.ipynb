{
 "cells": [
  {
   "cell_type": "markdown",
   "id": "a40b64fa-ebc1-44e0-99c4-4722f9740550",
   "metadata": {},
   "source": [
    "# Dil fridge initial data for debugging\n"
   ]
  },
  {
   "cell_type": "code",
   "execution_count": 1,
   "id": "02842eb4",
   "metadata": {},
   "outputs": [
    {
     "name": "stdout",
     "output_type": "stream",
     "text": [
      "Importing pyMez, this should take roughly 30 seconds\n",
      "Importing Code.DataHandlers.GeneralModels\n",
      "It took 0.150535 s to import Code.DataHandlers.GeneralModels\n",
      "Importing Code.DataHandlers.HTMLModels\n",
      "It took 0.030009 s to import Code.DataHandlers.HTMLModels\n",
      "Importing Code.DataHandlers.NISTModels\n",
      "It took 0.536558 s to import Code.DataHandlers.NISTModels\n",
      "Importing Code.DataHandlers.TouchstoneModels\n",
      "It took 0.001001 s to import Code.DataHandlers.TouchstoneModels\n",
      "Importing Code.DataHandlers.XMLModels\n",
      "It took 0.042935 s to import Code.DataHandlers.XMLModels\n",
      "Importing Code.DataHandlers.ZipModels\n",
      "It took 0.001 s to import Code.DataHandlers.ZipModels\n",
      "Importing Code.InstrumentControl.Experiments\n",
      "FAILED to import file!\n",
      "Moving to parsing unknown schema\n",
      "C:\\Users\\sparky.NIST\\AppData\\Local\\anaconda3\\Lib\\site-packages\\pyMez\\Code\\DataHandlers\\Tests\\Line_4909_WR15_Wave_Parameters_Port2_20180313_001.w1p sucessfully parsed\n",
      "FAILED to import file!\n",
      "Moving to parsing unknown schema\n",
      "C:\\Users\\sparky.NIST\\AppData\\Local\\anaconda3\\Lib\\site-packages\\pyMez\\Code\\DataHandlers\\Tests\\Line_5079_WR15_Wave_Parameters_20180313_001.w2p sucessfully parsed\n",
      "It took 0.733308 s to import Code.InstrumentControl.Experiments\n",
      "Importing Code.InstrumentControl.Instruments\n",
      "It took 0.0 s to import Code.InstrumentControl.Instruments\n",
      "Importing Code.Utils.Names\n",
      "It took 0.0 s to import Code.Utils.Names\n",
      "It took 1.495346 s to import all of the active modules\n"
     ]
    }
   ],
   "source": [
    "# pip install git+https://github.com/sandersa-nist/pyMez.\n",
    "# pip install pyserial\n",
    "from pyMez import *\n",
    "import time\n",
    "import json\n",
    "# load needed python libraries matplotlib, numpy, and scikit-rf\n",
    "import matplotlib.pyplot as plt\n",
    "import numpy as np\n",
    "import skrf as rf"
   ]
  },
  {
   "cell_type": "code",
   "execution_count": 2,
   "id": "80214127",
   "metadata": {},
   "outputs": [
    {
     "name": "stdout",
     "output_type": "stream",
     "text": [
      "The information sheet was not found defaulting to address\n"
     ]
    }
   ],
   "source": [
    "#create vna object\n",
    "vna=VNA(\"GPIB0::19::INSTR\")"
   ]
  },
  {
   "cell_type": "code",
   "execution_count": 3,
   "id": "98d6690f",
   "metadata": {},
   "outputs": [],
   "source": [
    "vna.initialize()"
   ]
  },
  {
   "cell_type": "code",
   "execution_count": 6,
   "id": "7410cf4e-c934-4b00-b754-ce50a6ab67e7",
   "metadata": {},
   "outputs": [],
   "source": [
    "s2p=vna.measure_sparameters()\n",
    "s2p.save(\"pcb_SOLT_warm/short.s2p\")\n",
    "network = rf.Network('pcb_SOLT_warm/short.s2p')\n",
    "fghz = network.f/1e9"
   ]
  },
  {
   "cell_type": "code",
   "execution_count": 9,
   "id": "f77c838c-8af2-4247-a1c9-bd70e2750af4",
   "metadata": {},
   "outputs": [],
   "source": [
    "s2p=vna.measure_sparameters()\n",
    "s2p.save(\"pcb_SOLT_warm/open.s2p\")"
   ]
  },
  {
   "cell_type": "code",
   "execution_count": 10,
   "id": "51ffd1a3-686b-48a1-b372-76010dcd3b6f",
   "metadata": {},
   "outputs": [],
   "source": [
    "s2p=vna.measure_sparameters()\n",
    "s2p.save(\"pcb_SOLT_warm/load.s2p\")"
   ]
  },
  {
   "cell_type": "code",
   "execution_count": 11,
   "id": "ecfceaae-f65c-4a5a-bd34-0a6b1b388215",
   "metadata": {},
   "outputs": [],
   "source": [
    "s2p=vna.measure_sparameters()\n",
    "s2p.save(\"pcb_SOLT_warm/thru.s2p\")"
   ]
  },
  {
   "cell_type": "code",
   "execution_count": null,
   "id": "62fb36fe-f684-43aa-9105-129a1df813cc",
   "metadata": {},
   "outputs": [],
   "source": [
    "vna.close()"
   ]
  },
  {
   "cell_type": "code",
   "execution_count": 12,
   "id": "02646133",
   "metadata": {},
   "outputs": [],
   "source": [
    "# get state of VNA and save to JSON file called vna_state.txt:\n",
    "\n",
    "vna_state = {}\n",
    "vna_state['power'] = vna.get_power()\n",
    "vna_state['startf'] = min(vna.get_frequency())\n",
    "vna_state['stopf'] = max(vna.get_frequency())\n",
    "vna_state['npoints'] = len(vna.get_frequency())\n",
    "vna_state['ifbw'] = vna.get_IFBW()\n",
    "vna_state_json = json.dumps(vna_state)\n",
    "vna_state_file = open(\"vna_state.txt\", \"w\")\n",
    "vna_state_file.write(vna_state_json)\n",
    "vna_state_file.close()\n"
   ]
  },
  {
   "cell_type": "code",
   "execution_count": 14,
   "id": "9821e040-95dc-4472-916a-842da2d6b96a",
   "metadata": {},
   "outputs": [
    {
     "data": {
      "text/plain": [
       "{'power': '-3.00000000000E+001\\n',\n",
       " 'startf': 4000000000.0,\n",
       " 'stopf': 8000000000.0,\n",
       " 'npoints': 1001,\n",
       " 'ifbw': 100.0}"
      ]
     },
     "execution_count": 14,
     "metadata": {},
     "output_type": "execute_result"
    }
   ],
   "source": [
    "vna_state"
   ]
  },
  {
   "cell_type": "code",
   "execution_count": null,
   "id": "185ddda4-a4d4-4740-b07e-7d29c4952aa2",
   "metadata": {},
   "outputs": [],
   "source": []
  }
 ],
 "metadata": {
  "kernelspec": {
   "display_name": "Python 3 (ipykernel)",
   "language": "python",
   "name": "python3"
  },
  "language_info": {
   "codemirror_mode": {
    "name": "ipython",
    "version": 3
   },
   "file_extension": ".py",
   "mimetype": "text/x-python",
   "name": "python",
   "nbconvert_exporter": "python",
   "pygments_lexer": "ipython3",
   "version": "3.12.4"
  }
 },
 "nbformat": 4,
 "nbformat_minor": 5
}
